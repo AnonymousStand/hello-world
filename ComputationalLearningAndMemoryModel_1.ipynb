{
  "cells": [
    {
      "cell_type": "markdown",
      "metadata": {
        "id": "view-in-github",
        "colab_type": "text"
      },
      "source": [
        "<a href=\"https://colab.research.google.com/github/AnonymousStand/hello-world/blob/master/ComputationalLearningAndMemoryModel_1.ipynb\" target=\"_parent\"><img src=\"https://colab.research.google.com/assets/colab-badge.svg\" alt=\"Open In Colab\"/></a>"
      ]
    },
    {
      "cell_type": "code",
      "execution_count": 67,
      "id": "952e9108-e9a2-4f2a-8e57-60a06166f39b",
      "metadata": {
        "id": "952e9108-e9a2-4f2a-8e57-60a06166f39b",
        "outputId": "995de392-9445-4f5d-d62d-18136960b0b3",
        "colab": {
          "base_uri": "https://localhost:8080/",
          "height": 35
        }
      },
      "outputs": [
        {
          "output_type": "execute_result",
          "data": {
            "text/plain": [
              "'2.8.0+cu126'"
            ],
            "application/vnd.google.colaboratory.intrinsic+json": {
              "type": "string"
            }
          },
          "metadata": {},
          "execution_count": 67
        }
      ],
      "source": [
        "import torch\n",
        "torch.__version__"
      ]
    },
    {
      "cell_type": "code",
      "execution_count": 68,
      "id": "f6e3f041-4120-4120-a658-8d4f3aa8b99e",
      "metadata": {
        "id": "f6e3f041-4120-4120-a658-8d4f3aa8b99e"
      },
      "outputs": [],
      "source": [
        "# Install PyTorch if needed\n",
        "#!pip install torch\n",
        "\n",
        "import numpy as np\n",
        "import torch\n",
        "import torch.nn as nn\n",
        "import torch.optim as optim\n",
        "import matplotlib.pyplot as plt\n",
        "from sklearn.decomposition import PCA"
      ]
    },
    {
      "cell_type": "code",
      "execution_count": 69,
      "id": "797d195b-0b61-4597-9e74-c98bef5a79d8",
      "metadata": {
        "id": "797d195b-0b61-4597-9e74-c98bef5a79d8"
      },
      "outputs": [],
      "source": [
        "class Autoencoder(nn.Module):\n",
        "    def __init__(self, input_size, latent_size=8):\n",
        "        super(Autoencoder, self).__init__()\n",
        "        self.encoder = nn.Sequential(\n",
        "            nn.Linear(input_size, latent_size),\n",
        "            nn.ReLU()\n",
        "        )\n",
        "        self.decoder = nn.Sequential(\n",
        "            nn.Linear(latent_size, input_size),\n",
        "            nn.Sigmoid()\n",
        "        )\n",
        "\n",
        "    def forward(self, x):\n",
        "        z = self.encoder(x)\n",
        "        return self.decoder(z)"
      ]
    },
    {
      "cell_type": "code",
      "execution_count": 70,
      "id": "f21714a3-f199-442c-ba1a-d2b6cf42575a",
      "metadata": {
        "id": "f21714a3-f199-442c-ba1a-d2b6cf42575a"
      },
      "outputs": [],
      "source": [
        "def encode_string(s, max_len, char_to_idx):\n",
        "    one_hot = np.zeros((max_len, len(char_to_idx)))\n",
        "    for i, c in enumerate(s.lower()[:max_len]):\n",
        "        if c in char_to_idx:\n",
        "            one_hot[i][char_to_idx[c]] = 1\n",
        "    return one_hot.flatten()\n",
        "\n",
        "def is_anomaly(model, input_str, max_len, char_to_idx, threshold=0.05):\n",
        "    x = encode_string(input_str, max_len, char_to_idx)\n",
        "    x = torch.FloatTensor(x).unsqueeze(0)\n",
        "    with torch.no_grad():\n",
        "        reconstruction = model(x)\n",
        "        error = torch.mean((x - reconstruction) ** 2).item()\n",
        "    return error > threshold, error\n"
      ]
    },
    {
      "cell_type": "code",
      "execution_count": 71,
      "id": "600a3a02-3c16-4009-8355-d5fd175f5327",
      "metadata": {
        "id": "600a3a02-3c16-4009-8355-d5fd175f5327",
        "outputId": "355ceedb-f994-43ea-c656-9a104a12fce0",
        "colab": {
          "base_uri": "https://localhost:8080/",
          "height": 472
        }
      },
      "outputs": [
        {
          "output_type": "display_data",
          "data": {
            "text/plain": [
              "<Figure size 640x480 with 1 Axes>"
            ],
            "image/png": "[encoded data removed]"
          },
          "metadata": {}
        }
      ],
      "source": [
        "# Normal input commands (training data)\n",
        "normal_inputs = [\"apple\", \"cat\", \"tree\", \"sequoia\", \"lion\", \"turnip\", \"fungus\"]\n",
        "\n",
        "# Preprocessing\n",
        "max_len = max(len(s) for s in normal_inputs)\n",
        "vocab = sorted(set(''.join(normal_inputs)))\n",
        "char_to_idx = {c: i for i, c in enumerate(vocab)}\n",
        "\n",
        "X_train = np.array([encode_string(s, max_len, char_to_idx) for s in normal_inputs])\n",
        "X_train = torch.FloatTensor(X_train)\n",
        "\n",
        "# Model setup\n",
        "model = Autoencoder(input_size=X_train.shape[1])\n",
        "criterion = nn.MSELoss()\n",
        "optimizer = optim.Adam(model.parameters(), lr=0.01)\n",
        "\n",
        "# Training loop\n",
        "losses = []\n",
        "for epoch in range(300):\n",
        "    optimizer.zero_grad()\n",
        "    output = model(X_train)\n",
        "    loss = criterion(output, X_train)\n",
        "    loss.backward()\n",
        "    optimizer.step()\n",
        "    losses.append(loss.item())\n",
        "\n",
        "# Plot training loss\n",
        "plt.plot(losses)\n",
        "plt.xlabel(\"Epoch\")\n",
        "plt.ylabel(\"Loss\")\n",
        "plt.title(\"Training Loss\")\n",
        "plt.grid(True)\n",
        "plt.show()\n"
      ]
    },
    {
      "cell_type": "code",
      "execution_count": 72,
      "id": "ce725f3f-a001-4db7-80f7-bcba48ebe75f",
      "metadata": {
        "id": "ce725f3f-a001-4db7-80f7-bcba48ebe75f",
        "outputId": "1509ffc6-8295-4ef6-b37d-ce960d7e9e29",
        "colab": {
          "base_uri": "https://localhost:8080/",
          "height": 0
        }
      },
      "outputs": [
        {
          "output_type": "stream",
          "name": "stdout",
          "text": [
            "fire       [✓] Normal (error=0.0382)\n",
            "patience   [!] Anomaly (error=0.0532)\n",
            "sermon     [✓] Normal (error=0.0370)\n",
            "horse      [✓] Normal (error=0.0365)\n",
            "mother     [✓] Normal (error=0.0346)\n",
            "iron       [✓] Normal (error=0.0284)\n",
            "miner      [✓] Normal (error=0.0363)\n",
            "thorough   [!] Anomaly (error=0.0506)\n",
            "tire       [✓] Normal (error=0.0253)\n",
            "panda      [✓] Normal (error=0.0358)\n"
          ]
        }
      ],
      "source": [
        "test_inputs = [\n",
        "    \"fire\",\n",
        "    \"patience\",\n",
        "    \"sermon\",\n",
        "    \"horse\",\n",
        "    \"mother\",\n",
        "    \"iron\",\n",
        "    \"miner\",\n",
        "    \"thorough\",\n",
        "    \"tire\",\n",
        "    \"panda\"\n",
        "]\n",
        "\n",
        "for input_str in test_inputs:\n",
        "    anomaly, err = is_anomaly(model, input_str, max_len, char_to_idx)\n",
        "    status = \"[!] Anomaly\" if anomaly else \"[✓] Normal\"\n",
        "    print(f\"{input_str:10} {status} (error={err:.4f})\")\n"
      ]
    },
    {
      "cell_type": "code",
      "execution_count": 72,
      "id": "e9f28536-031c-4e32-8ee8-39fd5d7adc23",
      "metadata": {
        "id": "e9f28536-031c-4e32-8ee8-39fd5d7adc23"
      },
      "outputs": [],
      "source": []
    }
  ],
  "metadata": {
    "kernelspec": {
      "display_name": "Python 3 (ipykernel)",
      "language": "python",
      "name": "python3"
    },
    "language_info": {
      "codemirror_mode": {
        "name": "ipython",
        "version": 3
      },
      "file_extension": ".py",
      "mimetype": "text/x-python",
      "name": "python",
      "nbconvert_exporter": "python",
      "pygments_lexer": "ipython3",
      "version": "3.12.7"
    },
    "colab": {
      "provenance": [],
      "include_colab_link": true
    }
  },
  "nbformat": 4,
  "nbformat_minor": 5
}